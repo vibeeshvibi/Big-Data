{
  "nbformat": 4,
  "nbformat_minor": 0,
  "metadata": {
    "colab": {
      "provenance": []
    },
    "kernelspec": {
      "name": "python3",
      "display_name": "Python 3"
    },
    "language_info": {
      "name": "python"
    }
  },
  "cells": [
    {
      "cell_type": "code",
      "execution_count": 7,
      "metadata": {
        "id": "qZptmJnY0tO1"
      },
      "outputs": [],
      "source": [
        "import pandas as pd"
      ]
    },
    {
      "cell_type": "code",
      "source": [
        "!pip install pyspark"
      ],
      "metadata": {
        "colab": {
          "base_uri": "https://localhost:8080/"
        },
        "id": "StIBNjvG0zAv",
        "outputId": "46561c06-b38d-4d16-86b4-001d92246af0"
      },
      "execution_count": 8,
      "outputs": [
        {
          "output_type": "stream",
          "name": "stdout",
          "text": [
            "Requirement already satisfied: pyspark in /usr/local/lib/python3.10/dist-packages (3.5.0)\n",
            "Requirement already satisfied: py4j==0.10.9.7 in /usr/local/lib/python3.10/dist-packages (from pyspark) (0.10.9.7)\n"
          ]
        }
      ]
    },
    {
      "cell_type": "code",
      "source": [
        "from pyspark.sql import SparkSession\n",
        "spark=SparkSession.builder.appName(\"SparkbyExamples.com\").getOrCreate()\n",
        "import pandas as pd"
      ],
      "metadata": {
        "id": "WhYXLJd3CrID"
      },
      "execution_count": 9,
      "outputs": []
    },
    {
      "cell_type": "code",
      "source": [
        "sc=spark.sparkContext"
      ],
      "metadata": {
        "id": "FH27Diw1EOYO"
      },
      "execution_count": 10,
      "outputs": []
    },
    {
      "cell_type": "code",
      "source": [
        "df=spark.read.option('header',True).csv(\"/content/healthcare-dataset-stroke-data.csv\")"
      ],
      "metadata": {
        "id": "QkkOWwbKESxZ"
      },
      "execution_count": 6,
      "outputs": []
    },
    {
      "cell_type": "code",
      "source": [
        "df.show()"
      ],
      "metadata": {
        "id": "7lVT3CtsEexS",
        "colab": {
          "base_uri": "https://localhost:8080/"
        },
        "outputId": "ce29b95f-0bd8-4b3f-b8c6-a9247add71d9"
      },
      "execution_count": 11,
      "outputs": [
        {
          "output_type": "stream",
          "name": "stdout",
          "text": [
            "+-----+------+---+------------+-------------+------------+-------------+--------------+-----------------+----+---------------+------+\n",
            "|   id|gender|age|hypertension|heart_disease|ever_married|    work_type|Residence_type|avg_glucose_level| bmi| smoking_status|stroke|\n",
            "+-----+------+---+------------+-------------+------------+-------------+--------------+-----------------+----+---------------+------+\n",
            "| 9046|  Male| 67|           0|            1|         Yes|      Private|         Urban|           228.69|36.6|formerly smoked|     1|\n",
            "|51676|Female| 61|           0|            0|         Yes|Self-employed|         Rural|           202.21| N/A|   never smoked|     1|\n",
            "|31112|  Male| 80|           0|            1|         Yes|      Private|         Rural|           105.92|32.5|   never smoked|     1|\n",
            "|60182|Female| 49|           0|            0|         Yes|      Private|         Urban|           171.23|34.4|         smokes|     1|\n",
            "| 1665|Female| 79|           1|            0|         Yes|Self-employed|         Rural|           174.12|  24|   never smoked|     1|\n",
            "|56669|  Male| 81|           0|            0|         Yes|      Private|         Urban|           186.21|  29|formerly smoked|     1|\n",
            "|53882|  Male| 74|           1|            1|         Yes|      Private|         Rural|            70.09|27.4|   never smoked|     1|\n",
            "|10434|Female| 69|           0|            0|          No|      Private|         Urban|            94.39|22.8|   never smoked|     1|\n",
            "|27419|Female| 59|           0|            0|         Yes|      Private|         Rural|            76.15| N/A|        Unknown|     1|\n",
            "|60491|Female| 78|           0|            0|         Yes|      Private|         Urban|            58.57|24.2|        Unknown|     1|\n",
            "|12109|Female| 81|           1|            0|         Yes|      Private|         Rural|            80.43|29.7|   never smoked|     1|\n",
            "|12095|Female| 61|           0|            1|         Yes|     Govt_job|         Rural|           120.46|36.8|         smokes|     1|\n",
            "|12175|Female| 54|           0|            0|         Yes|      Private|         Urban|           104.51|27.3|         smokes|     1|\n",
            "| 8213|  Male| 78|           0|            1|         Yes|      Private|         Urban|           219.84| N/A|        Unknown|     1|\n",
            "| 5317|Female| 79|           0|            1|         Yes|      Private|         Urban|           214.09|28.2|   never smoked|     1|\n",
            "|58202|Female| 50|           1|            0|         Yes|Self-employed|         Rural|           167.41|30.9|   never smoked|     1|\n",
            "|56112|  Male| 64|           0|            1|         Yes|      Private|         Urban|           191.61|37.5|         smokes|     1|\n",
            "|34120|  Male| 75|           1|            0|         Yes|      Private|         Urban|           221.29|25.8|         smokes|     1|\n",
            "|27458|Female| 60|           0|            0|          No|      Private|         Urban|            89.22|37.8|   never smoked|     1|\n",
            "|25226|  Male| 57|           0|            1|          No|     Govt_job|         Urban|           217.08| N/A|        Unknown|     1|\n",
            "+-----+------+---+------------+-------------+------------+-------------+--------------+-----------------+----+---------------+------+\n",
            "only showing top 20 rows\n",
            "\n"
          ]
        }
      ]
    },
    {
      "cell_type": "code",
      "source": [
        "from pyspark.sql.functions import col"
      ],
      "metadata": {
        "id": "OS7AcPkEEoi5"
      },
      "execution_count": 12,
      "outputs": []
    },
    {
      "cell_type": "code",
      "source": [
        "from pyspark.sql.functions import col,isnan, when, count\n",
        "df.select([count(when(isnan(c) | col(c).isNull(), c)).alias(c) for c in df.columns]\n",
        "   ).show()"
      ],
      "metadata": {
        "colab": {
          "base_uri": "https://localhost:8080/"
        },
        "id": "2yDYR1hFGBcp",
        "outputId": "2321a8c7-5fff-41b0-d75c-552709b028ef"
      },
      "execution_count": 13,
      "outputs": [
        {
          "output_type": "stream",
          "name": "stdout",
          "text": [
            "+---+------+---+------------+-------------+------------+---------+--------------+-----------------+---+--------------+------+\n",
            "| id|gender|age|hypertension|heart_disease|ever_married|work_type|Residence_type|avg_glucose_level|bmi|smoking_status|stroke|\n",
            "+---+------+---+------------+-------------+------------+---------+--------------+-----------------+---+--------------+------+\n",
            "|  0|     0|  0|           0|            0|           0|        0|             0|                0|  0|             0|     0|\n",
            "+---+------+---+------------+-------------+------------+---------+--------------+-----------------+---+--------------+------+\n",
            "\n"
          ]
        }
      ]
    },
    {
      "cell_type": "code",
      "source": [
        "df.printSchema()"
      ],
      "metadata": {
        "colab": {
          "base_uri": "https://localhost:8080/"
        },
        "id": "OSX14VDcGjI_",
        "outputId": "a79cfc77-44d0-4d2f-e37f-7e59470d644c"
      },
      "execution_count": 14,
      "outputs": [
        {
          "output_type": "stream",
          "name": "stdout",
          "text": [
            "root\n",
            " |-- id: string (nullable = true)\n",
            " |-- gender: string (nullable = true)\n",
            " |-- age: string (nullable = true)\n",
            " |-- hypertension: string (nullable = true)\n",
            " |-- heart_disease: string (nullable = true)\n",
            " |-- ever_married: string (nullable = true)\n",
            " |-- work_type: string (nullable = true)\n",
            " |-- Residence_type: string (nullable = true)\n",
            " |-- avg_glucose_level: string (nullable = true)\n",
            " |-- bmi: string (nullable = true)\n",
            " |-- smoking_status: string (nullable = true)\n",
            " |-- stroke: string (nullable = true)\n",
            "\n"
          ]
        }
      ]
    },
    {
      "cell_type": "code",
      "source": [
        "from pyspark.ml.feature import StringIndexer, VectorAssembler"
      ],
      "metadata": {
        "id": "KqcIBJGqHVUq"
      },
      "execution_count": 15,
      "outputs": []
    },
    {
      "cell_type": "code",
      "source": [
        "indexer = StringIndexer(inputCol = 'gender', outputCol = 'Gender').fit(df)\n",
        "df = indexer.transform(df)"
      ],
      "metadata": {
        "id": "0uwmCH-ZHyEO"
      },
      "execution_count": 16,
      "outputs": []
    },
    {
      "cell_type": "code",
      "source": [
        "df.show()"
      ],
      "metadata": {
        "colab": {
          "base_uri": "https://localhost:8080/"
        },
        "id": "Wyy-S_g1ILHm",
        "outputId": "e5dde44c-b8e8-4f5d-f79c-4e8bc71a5946"
      },
      "execution_count": 17,
      "outputs": [
        {
          "output_type": "stream",
          "name": "stdout",
          "text": [
            "+-----+------+---+------------+-------------+------------+-------------+--------------+-----------------+----+---------------+------+\n",
            "|   id|Gender|age|hypertension|heart_disease|ever_married|    work_type|Residence_type|avg_glucose_level| bmi| smoking_status|stroke|\n",
            "+-----+------+---+------------+-------------+------------+-------------+--------------+-----------------+----+---------------+------+\n",
            "| 9046|   1.0| 67|           0|            1|         Yes|      Private|         Urban|           228.69|36.6|formerly smoked|     1|\n",
            "|51676|   0.0| 61|           0|            0|         Yes|Self-employed|         Rural|           202.21| N/A|   never smoked|     1|\n",
            "|31112|   1.0| 80|           0|            1|         Yes|      Private|         Rural|           105.92|32.5|   never smoked|     1|\n",
            "|60182|   0.0| 49|           0|            0|         Yes|      Private|         Urban|           171.23|34.4|         smokes|     1|\n",
            "| 1665|   0.0| 79|           1|            0|         Yes|Self-employed|         Rural|           174.12|  24|   never smoked|     1|\n",
            "|56669|   1.0| 81|           0|            0|         Yes|      Private|         Urban|           186.21|  29|formerly smoked|     1|\n",
            "|53882|   1.0| 74|           1|            1|         Yes|      Private|         Rural|            70.09|27.4|   never smoked|     1|\n",
            "|10434|   0.0| 69|           0|            0|          No|      Private|         Urban|            94.39|22.8|   never smoked|     1|\n",
            "|27419|   0.0| 59|           0|            0|         Yes|      Private|         Rural|            76.15| N/A|        Unknown|     1|\n",
            "|60491|   0.0| 78|           0|            0|         Yes|      Private|         Urban|            58.57|24.2|        Unknown|     1|\n",
            "|12109|   0.0| 81|           1|            0|         Yes|      Private|         Rural|            80.43|29.7|   never smoked|     1|\n",
            "|12095|   0.0| 61|           0|            1|         Yes|     Govt_job|         Rural|           120.46|36.8|         smokes|     1|\n",
            "|12175|   0.0| 54|           0|            0|         Yes|      Private|         Urban|           104.51|27.3|         smokes|     1|\n",
            "| 8213|   1.0| 78|           0|            1|         Yes|      Private|         Urban|           219.84| N/A|        Unknown|     1|\n",
            "| 5317|   0.0| 79|           0|            1|         Yes|      Private|         Urban|           214.09|28.2|   never smoked|     1|\n",
            "|58202|   0.0| 50|           1|            0|         Yes|Self-employed|         Rural|           167.41|30.9|   never smoked|     1|\n",
            "|56112|   1.0| 64|           0|            1|         Yes|      Private|         Urban|           191.61|37.5|         smokes|     1|\n",
            "|34120|   1.0| 75|           1|            0|         Yes|      Private|         Urban|           221.29|25.8|         smokes|     1|\n",
            "|27458|   0.0| 60|           0|            0|          No|      Private|         Urban|            89.22|37.8|   never smoked|     1|\n",
            "|25226|   1.0| 57|           0|            1|          No|     Govt_job|         Urban|           217.08| N/A|        Unknown|     1|\n",
            "+-----+------+---+------------+-------------+------------+-------------+--------------+-----------------+----+---------------+------+\n",
            "only showing top 20 rows\n",
            "\n"
          ]
        }
      ]
    },
    {
      "cell_type": "code",
      "source": [
        "indexer = StringIndexer(inputCol = 'ever_married', outputCol = 'Marital Status').fit(df)\n",
        "df = indexer.transform(df)"
      ],
      "metadata": {
        "id": "P62adoUMIO_S"
      },
      "execution_count": 18,
      "outputs": []
    },
    {
      "cell_type": "code",
      "source": [
        "df.show()"
      ],
      "metadata": {
        "colab": {
          "base_uri": "https://localhost:8080/"
        },
        "id": "489OEkjNJAg_",
        "outputId": "a6a047a0-3cd9-484b-d009-42a943ad631a"
      },
      "execution_count": 19,
      "outputs": [
        {
          "output_type": "stream",
          "name": "stdout",
          "text": [
            "+-----+------+---+------------+-------------+------------+-------------+--------------+-----------------+----+---------------+------+--------------+\n",
            "|   id|Gender|age|hypertension|heart_disease|ever_married|    work_type|Residence_type|avg_glucose_level| bmi| smoking_status|stroke|Marital Status|\n",
            "+-----+------+---+------------+-------------+------------+-------------+--------------+-----------------+----+---------------+------+--------------+\n",
            "| 9046|   1.0| 67|           0|            1|         Yes|      Private|         Urban|           228.69|36.6|formerly smoked|     1|           0.0|\n",
            "|51676|   0.0| 61|           0|            0|         Yes|Self-employed|         Rural|           202.21| N/A|   never smoked|     1|           0.0|\n",
            "|31112|   1.0| 80|           0|            1|         Yes|      Private|         Rural|           105.92|32.5|   never smoked|     1|           0.0|\n",
            "|60182|   0.0| 49|           0|            0|         Yes|      Private|         Urban|           171.23|34.4|         smokes|     1|           0.0|\n",
            "| 1665|   0.0| 79|           1|            0|         Yes|Self-employed|         Rural|           174.12|  24|   never smoked|     1|           0.0|\n",
            "|56669|   1.0| 81|           0|            0|         Yes|      Private|         Urban|           186.21|  29|formerly smoked|     1|           0.0|\n",
            "|53882|   1.0| 74|           1|            1|         Yes|      Private|         Rural|            70.09|27.4|   never smoked|     1|           0.0|\n",
            "|10434|   0.0| 69|           0|            0|          No|      Private|         Urban|            94.39|22.8|   never smoked|     1|           1.0|\n",
            "|27419|   0.0| 59|           0|            0|         Yes|      Private|         Rural|            76.15| N/A|        Unknown|     1|           0.0|\n",
            "|60491|   0.0| 78|           0|            0|         Yes|      Private|         Urban|            58.57|24.2|        Unknown|     1|           0.0|\n",
            "|12109|   0.0| 81|           1|            0|         Yes|      Private|         Rural|            80.43|29.7|   never smoked|     1|           0.0|\n",
            "|12095|   0.0| 61|           0|            1|         Yes|     Govt_job|         Rural|           120.46|36.8|         smokes|     1|           0.0|\n",
            "|12175|   0.0| 54|           0|            0|         Yes|      Private|         Urban|           104.51|27.3|         smokes|     1|           0.0|\n",
            "| 8213|   1.0| 78|           0|            1|         Yes|      Private|         Urban|           219.84| N/A|        Unknown|     1|           0.0|\n",
            "| 5317|   0.0| 79|           0|            1|         Yes|      Private|         Urban|           214.09|28.2|   never smoked|     1|           0.0|\n",
            "|58202|   0.0| 50|           1|            0|         Yes|Self-employed|         Rural|           167.41|30.9|   never smoked|     1|           0.0|\n",
            "|56112|   1.0| 64|           0|            1|         Yes|      Private|         Urban|           191.61|37.5|         smokes|     1|           0.0|\n",
            "|34120|   1.0| 75|           1|            0|         Yes|      Private|         Urban|           221.29|25.8|         smokes|     1|           0.0|\n",
            "|27458|   0.0| 60|           0|            0|          No|      Private|         Urban|            89.22|37.8|   never smoked|     1|           1.0|\n",
            "|25226|   1.0| 57|           0|            1|          No|     Govt_job|         Urban|           217.08| N/A|        Unknown|     1|           1.0|\n",
            "+-----+------+---+------------+-------------+------------+-------------+--------------+-----------------+----+---------------+------+--------------+\n",
            "only showing top 20 rows\n",
            "\n"
          ]
        }
      ]
    },
    {
      "cell_type": "code",
      "source": [
        "df = df.drop('ever_married')\n",
        "df.show()"
      ],
      "metadata": {
        "colab": {
          "base_uri": "https://localhost:8080/"
        },
        "id": "QY0YcYvUJB-X",
        "outputId": "43fc6303-3aff-44ea-83e8-90f4a4bea227"
      },
      "execution_count": 20,
      "outputs": [
        {
          "output_type": "stream",
          "name": "stdout",
          "text": [
            "+-----+------+---+------------+-------------+-------------+--------------+-----------------+----+---------------+------+--------------+\n",
            "|   id|Gender|age|hypertension|heart_disease|    work_type|Residence_type|avg_glucose_level| bmi| smoking_status|stroke|Marital Status|\n",
            "+-----+------+---+------------+-------------+-------------+--------------+-----------------+----+---------------+------+--------------+\n",
            "| 9046|   1.0| 67|           0|            1|      Private|         Urban|           228.69|36.6|formerly smoked|     1|           0.0|\n",
            "|51676|   0.0| 61|           0|            0|Self-employed|         Rural|           202.21| N/A|   never smoked|     1|           0.0|\n",
            "|31112|   1.0| 80|           0|            1|      Private|         Rural|           105.92|32.5|   never smoked|     1|           0.0|\n",
            "|60182|   0.0| 49|           0|            0|      Private|         Urban|           171.23|34.4|         smokes|     1|           0.0|\n",
            "| 1665|   0.0| 79|           1|            0|Self-employed|         Rural|           174.12|  24|   never smoked|     1|           0.0|\n",
            "|56669|   1.0| 81|           0|            0|      Private|         Urban|           186.21|  29|formerly smoked|     1|           0.0|\n",
            "|53882|   1.0| 74|           1|            1|      Private|         Rural|            70.09|27.4|   never smoked|     1|           0.0|\n",
            "|10434|   0.0| 69|           0|            0|      Private|         Urban|            94.39|22.8|   never smoked|     1|           1.0|\n",
            "|27419|   0.0| 59|           0|            0|      Private|         Rural|            76.15| N/A|        Unknown|     1|           0.0|\n",
            "|60491|   0.0| 78|           0|            0|      Private|         Urban|            58.57|24.2|        Unknown|     1|           0.0|\n",
            "|12109|   0.0| 81|           1|            0|      Private|         Rural|            80.43|29.7|   never smoked|     1|           0.0|\n",
            "|12095|   0.0| 61|           0|            1|     Govt_job|         Rural|           120.46|36.8|         smokes|     1|           0.0|\n",
            "|12175|   0.0| 54|           0|            0|      Private|         Urban|           104.51|27.3|         smokes|     1|           0.0|\n",
            "| 8213|   1.0| 78|           0|            1|      Private|         Urban|           219.84| N/A|        Unknown|     1|           0.0|\n",
            "| 5317|   0.0| 79|           0|            1|      Private|         Urban|           214.09|28.2|   never smoked|     1|           0.0|\n",
            "|58202|   0.0| 50|           1|            0|Self-employed|         Rural|           167.41|30.9|   never smoked|     1|           0.0|\n",
            "|56112|   1.0| 64|           0|            1|      Private|         Urban|           191.61|37.5|         smokes|     1|           0.0|\n",
            "|34120|   1.0| 75|           1|            0|      Private|         Urban|           221.29|25.8|         smokes|     1|           0.0|\n",
            "|27458|   0.0| 60|           0|            0|      Private|         Urban|            89.22|37.8|   never smoked|     1|           1.0|\n",
            "|25226|   1.0| 57|           0|            1|     Govt_job|         Urban|           217.08| N/A|        Unknown|     1|           1.0|\n",
            "+-----+------+---+------------+-------------+-------------+--------------+-----------------+----+---------------+------+--------------+\n",
            "only showing top 20 rows\n",
            "\n"
          ]
        }
      ]
    },
    {
      "cell_type": "code",
      "source": [
        "indexer = StringIndexer(inputCol = 'work_type', outputCol = 'Work').fit(df)\n",
        "df = indexer.transform(df)"
      ],
      "metadata": {
        "id": "DHzj6Mo4JaZ8"
      },
      "execution_count": 21,
      "outputs": []
    },
    {
      "cell_type": "code",
      "source": [
        "df.show()"
      ],
      "metadata": {
        "colab": {
          "base_uri": "https://localhost:8080/"
        },
        "id": "pyWx_jGmJmkn",
        "outputId": "d499b502-f26d-40c5-cbd7-4a4f7508763c"
      },
      "execution_count": 22,
      "outputs": [
        {
          "output_type": "stream",
          "name": "stdout",
          "text": [
            "+-----+------+---+------------+-------------+-------------+--------------+-----------------+----+---------------+------+--------------+----+\n",
            "|   id|Gender|age|hypertension|heart_disease|    work_type|Residence_type|avg_glucose_level| bmi| smoking_status|stroke|Marital Status|Work|\n",
            "+-----+------+---+------------+-------------+-------------+--------------+-----------------+----+---------------+------+--------------+----+\n",
            "| 9046|   1.0| 67|           0|            1|      Private|         Urban|           228.69|36.6|formerly smoked|     1|           0.0| 0.0|\n",
            "|51676|   0.0| 61|           0|            0|Self-employed|         Rural|           202.21| N/A|   never smoked|     1|           0.0| 1.0|\n",
            "|31112|   1.0| 80|           0|            1|      Private|         Rural|           105.92|32.5|   never smoked|     1|           0.0| 0.0|\n",
            "|60182|   0.0| 49|           0|            0|      Private|         Urban|           171.23|34.4|         smokes|     1|           0.0| 0.0|\n",
            "| 1665|   0.0| 79|           1|            0|Self-employed|         Rural|           174.12|  24|   never smoked|     1|           0.0| 1.0|\n",
            "|56669|   1.0| 81|           0|            0|      Private|         Urban|           186.21|  29|formerly smoked|     1|           0.0| 0.0|\n",
            "|53882|   1.0| 74|           1|            1|      Private|         Rural|            70.09|27.4|   never smoked|     1|           0.0| 0.0|\n",
            "|10434|   0.0| 69|           0|            0|      Private|         Urban|            94.39|22.8|   never smoked|     1|           1.0| 0.0|\n",
            "|27419|   0.0| 59|           0|            0|      Private|         Rural|            76.15| N/A|        Unknown|     1|           0.0| 0.0|\n",
            "|60491|   0.0| 78|           0|            0|      Private|         Urban|            58.57|24.2|        Unknown|     1|           0.0| 0.0|\n",
            "|12109|   0.0| 81|           1|            0|      Private|         Rural|            80.43|29.7|   never smoked|     1|           0.0| 0.0|\n",
            "|12095|   0.0| 61|           0|            1|     Govt_job|         Rural|           120.46|36.8|         smokes|     1|           0.0| 3.0|\n",
            "|12175|   0.0| 54|           0|            0|      Private|         Urban|           104.51|27.3|         smokes|     1|           0.0| 0.0|\n",
            "| 8213|   1.0| 78|           0|            1|      Private|         Urban|           219.84| N/A|        Unknown|     1|           0.0| 0.0|\n",
            "| 5317|   0.0| 79|           0|            1|      Private|         Urban|           214.09|28.2|   never smoked|     1|           0.0| 0.0|\n",
            "|58202|   0.0| 50|           1|            0|Self-employed|         Rural|           167.41|30.9|   never smoked|     1|           0.0| 1.0|\n",
            "|56112|   1.0| 64|           0|            1|      Private|         Urban|           191.61|37.5|         smokes|     1|           0.0| 0.0|\n",
            "|34120|   1.0| 75|           1|            0|      Private|         Urban|           221.29|25.8|         smokes|     1|           0.0| 0.0|\n",
            "|27458|   0.0| 60|           0|            0|      Private|         Urban|            89.22|37.8|   never smoked|     1|           1.0| 0.0|\n",
            "|25226|   1.0| 57|           0|            1|     Govt_job|         Urban|           217.08| N/A|        Unknown|     1|           1.0| 3.0|\n",
            "+-----+------+---+------------+-------------+-------------+--------------+-----------------+----+---------------+------+--------------+----+\n",
            "only showing top 20 rows\n",
            "\n"
          ]
        }
      ]
    },
    {
      "cell_type": "code",
      "source": [
        "df = df.drop('work_type')\n",
        "df.show()"
      ],
      "metadata": {
        "colab": {
          "base_uri": "https://localhost:8080/"
        },
        "id": "9NpXqoZTJqIx",
        "outputId": "a6301941-47a6-4fd3-9349-0d62b6978b0f"
      },
      "execution_count": 23,
      "outputs": [
        {
          "output_type": "stream",
          "name": "stdout",
          "text": [
            "+-----+------+---+------------+-------------+--------------+-----------------+----+---------------+------+--------------+----+\n",
            "|   id|Gender|age|hypertension|heart_disease|Residence_type|avg_glucose_level| bmi| smoking_status|stroke|Marital Status|Work|\n",
            "+-----+------+---+------------+-------------+--------------+-----------------+----+---------------+------+--------------+----+\n",
            "| 9046|   1.0| 67|           0|            1|         Urban|           228.69|36.6|formerly smoked|     1|           0.0| 0.0|\n",
            "|51676|   0.0| 61|           0|            0|         Rural|           202.21| N/A|   never smoked|     1|           0.0| 1.0|\n",
            "|31112|   1.0| 80|           0|            1|         Rural|           105.92|32.5|   never smoked|     1|           0.0| 0.0|\n",
            "|60182|   0.0| 49|           0|            0|         Urban|           171.23|34.4|         smokes|     1|           0.0| 0.0|\n",
            "| 1665|   0.0| 79|           1|            0|         Rural|           174.12|  24|   never smoked|     1|           0.0| 1.0|\n",
            "|56669|   1.0| 81|           0|            0|         Urban|           186.21|  29|formerly smoked|     1|           0.0| 0.0|\n",
            "|53882|   1.0| 74|           1|            1|         Rural|            70.09|27.4|   never smoked|     1|           0.0| 0.0|\n",
            "|10434|   0.0| 69|           0|            0|         Urban|            94.39|22.8|   never smoked|     1|           1.0| 0.0|\n",
            "|27419|   0.0| 59|           0|            0|         Rural|            76.15| N/A|        Unknown|     1|           0.0| 0.0|\n",
            "|60491|   0.0| 78|           0|            0|         Urban|            58.57|24.2|        Unknown|     1|           0.0| 0.0|\n",
            "|12109|   0.0| 81|           1|            0|         Rural|            80.43|29.7|   never smoked|     1|           0.0| 0.0|\n",
            "|12095|   0.0| 61|           0|            1|         Rural|           120.46|36.8|         smokes|     1|           0.0| 3.0|\n",
            "|12175|   0.0| 54|           0|            0|         Urban|           104.51|27.3|         smokes|     1|           0.0| 0.0|\n",
            "| 8213|   1.0| 78|           0|            1|         Urban|           219.84| N/A|        Unknown|     1|           0.0| 0.0|\n",
            "| 5317|   0.0| 79|           0|            1|         Urban|           214.09|28.2|   never smoked|     1|           0.0| 0.0|\n",
            "|58202|   0.0| 50|           1|            0|         Rural|           167.41|30.9|   never smoked|     1|           0.0| 1.0|\n",
            "|56112|   1.0| 64|           0|            1|         Urban|           191.61|37.5|         smokes|     1|           0.0| 0.0|\n",
            "|34120|   1.0| 75|           1|            0|         Urban|           221.29|25.8|         smokes|     1|           0.0| 0.0|\n",
            "|27458|   0.0| 60|           0|            0|         Urban|            89.22|37.8|   never smoked|     1|           1.0| 0.0|\n",
            "|25226|   1.0| 57|           0|            1|         Urban|           217.08| N/A|        Unknown|     1|           1.0| 3.0|\n",
            "+-----+------+---+------------+-------------+--------------+-----------------+----+---------------+------+--------------+----+\n",
            "only showing top 20 rows\n",
            "\n"
          ]
        }
      ]
    },
    {
      "cell_type": "code",
      "source": [
        "indexer = StringIndexer(inputCol = 'Residence_type', outputCol = 'Residence').fit(df)\n",
        "df = indexer.transform(df)\n",
        "indexer = StringIndexer(inputCol = 'smoking_status', outputCol = 'Smoking').fit(df)\n",
        "df = indexer.transform(df)"
      ],
      "metadata": {
        "id": "kO-0tTIsJvPv"
      },
      "execution_count": 24,
      "outputs": []
    },
    {
      "cell_type": "code",
      "source": [
        "df.show()"
      ],
      "metadata": {
        "colab": {
          "base_uri": "https://localhost:8080/"
        },
        "id": "av5TmUwdJ9H3",
        "outputId": "4a044cf1-3892-4efb-f386-6f435043c534"
      },
      "execution_count": 25,
      "outputs": [
        {
          "output_type": "stream",
          "name": "stdout",
          "text": [
            "+-----+------+---+------------+-------------+--------------+-----------------+----+---------------+------+--------------+----+---------+-------+\n",
            "|   id|Gender|age|hypertension|heart_disease|Residence_type|avg_glucose_level| bmi| smoking_status|stroke|Marital Status|Work|Residence|Smoking|\n",
            "+-----+------+---+------------+-------------+--------------+-----------------+----+---------------+------+--------------+----+---------+-------+\n",
            "| 9046|   1.0| 67|           0|            1|         Urban|           228.69|36.6|formerly smoked|     1|           0.0| 0.0|      0.0|    2.0|\n",
            "|51676|   0.0| 61|           0|            0|         Rural|           202.21| N/A|   never smoked|     1|           0.0| 1.0|      1.0|    0.0|\n",
            "|31112|   1.0| 80|           0|            1|         Rural|           105.92|32.5|   never smoked|     1|           0.0| 0.0|      1.0|    0.0|\n",
            "|60182|   0.0| 49|           0|            0|         Urban|           171.23|34.4|         smokes|     1|           0.0| 0.0|      0.0|    3.0|\n",
            "| 1665|   0.0| 79|           1|            0|         Rural|           174.12|  24|   never smoked|     1|           0.0| 1.0|      1.0|    0.0|\n",
            "|56669|   1.0| 81|           0|            0|         Urban|           186.21|  29|formerly smoked|     1|           0.0| 0.0|      0.0|    2.0|\n",
            "|53882|   1.0| 74|           1|            1|         Rural|            70.09|27.4|   never smoked|     1|           0.0| 0.0|      1.0|    0.0|\n",
            "|10434|   0.0| 69|           0|            0|         Urban|            94.39|22.8|   never smoked|     1|           1.0| 0.0|      0.0|    0.0|\n",
            "|27419|   0.0| 59|           0|            0|         Rural|            76.15| N/A|        Unknown|     1|           0.0| 0.0|      1.0|    1.0|\n",
            "|60491|   0.0| 78|           0|            0|         Urban|            58.57|24.2|        Unknown|     1|           0.0| 0.0|      0.0|    1.0|\n",
            "|12109|   0.0| 81|           1|            0|         Rural|            80.43|29.7|   never smoked|     1|           0.0| 0.0|      1.0|    0.0|\n",
            "|12095|   0.0| 61|           0|            1|         Rural|           120.46|36.8|         smokes|     1|           0.0| 3.0|      1.0|    3.0|\n",
            "|12175|   0.0| 54|           0|            0|         Urban|           104.51|27.3|         smokes|     1|           0.0| 0.0|      0.0|    3.0|\n",
            "| 8213|   1.0| 78|           0|            1|         Urban|           219.84| N/A|        Unknown|     1|           0.0| 0.0|      0.0|    1.0|\n",
            "| 5317|   0.0| 79|           0|            1|         Urban|           214.09|28.2|   never smoked|     1|           0.0| 0.0|      0.0|    0.0|\n",
            "|58202|   0.0| 50|           1|            0|         Rural|           167.41|30.9|   never smoked|     1|           0.0| 1.0|      1.0|    0.0|\n",
            "|56112|   1.0| 64|           0|            1|         Urban|           191.61|37.5|         smokes|     1|           0.0| 0.0|      0.0|    3.0|\n",
            "|34120|   1.0| 75|           1|            0|         Urban|           221.29|25.8|         smokes|     1|           0.0| 0.0|      0.0|    3.0|\n",
            "|27458|   0.0| 60|           0|            0|         Urban|            89.22|37.8|   never smoked|     1|           1.0| 0.0|      0.0|    0.0|\n",
            "|25226|   1.0| 57|           0|            1|         Urban|           217.08| N/A|        Unknown|     1|           1.0| 3.0|      0.0|    1.0|\n",
            "+-----+------+---+------------+-------------+--------------+-----------------+----+---------------+------+--------------+----+---------+-------+\n",
            "only showing top 20 rows\n",
            "\n"
          ]
        }
      ]
    },
    {
      "cell_type": "code",
      "source": [
        "df = df.drop('Residence_type','smoking_status')\n",
        "df.show()"
      ],
      "metadata": {
        "colab": {
          "base_uri": "https://localhost:8080/"
        },
        "id": "8eepob7CKAx-",
        "outputId": "f7966144-ccfd-45e3-dbf6-bbb5f2b65002"
      },
      "execution_count": 26,
      "outputs": [
        {
          "output_type": "stream",
          "name": "stdout",
          "text": [
            "+-----+------+---+------------+-------------+-----------------+----+------+--------------+----+---------+-------+\n",
            "|   id|Gender|age|hypertension|heart_disease|avg_glucose_level| bmi|stroke|Marital Status|Work|Residence|Smoking|\n",
            "+-----+------+---+------------+-------------+-----------------+----+------+--------------+----+---------+-------+\n",
            "| 9046|   1.0| 67|           0|            1|           228.69|36.6|     1|           0.0| 0.0|      0.0|    2.0|\n",
            "|51676|   0.0| 61|           0|            0|           202.21| N/A|     1|           0.0| 1.0|      1.0|    0.0|\n",
            "|31112|   1.0| 80|           0|            1|           105.92|32.5|     1|           0.0| 0.0|      1.0|    0.0|\n",
            "|60182|   0.0| 49|           0|            0|           171.23|34.4|     1|           0.0| 0.0|      0.0|    3.0|\n",
            "| 1665|   0.0| 79|           1|            0|           174.12|  24|     1|           0.0| 1.0|      1.0|    0.0|\n",
            "|56669|   1.0| 81|           0|            0|           186.21|  29|     1|           0.0| 0.0|      0.0|    2.0|\n",
            "|53882|   1.0| 74|           1|            1|            70.09|27.4|     1|           0.0| 0.0|      1.0|    0.0|\n",
            "|10434|   0.0| 69|           0|            0|            94.39|22.8|     1|           1.0| 0.0|      0.0|    0.0|\n",
            "|27419|   0.0| 59|           0|            0|            76.15| N/A|     1|           0.0| 0.0|      1.0|    1.0|\n",
            "|60491|   0.0| 78|           0|            0|            58.57|24.2|     1|           0.0| 0.0|      0.0|    1.0|\n",
            "|12109|   0.0| 81|           1|            0|            80.43|29.7|     1|           0.0| 0.0|      1.0|    0.0|\n",
            "|12095|   0.0| 61|           0|            1|           120.46|36.8|     1|           0.0| 3.0|      1.0|    3.0|\n",
            "|12175|   0.0| 54|           0|            0|           104.51|27.3|     1|           0.0| 0.0|      0.0|    3.0|\n",
            "| 8213|   1.0| 78|           0|            1|           219.84| N/A|     1|           0.0| 0.0|      0.0|    1.0|\n",
            "| 5317|   0.0| 79|           0|            1|           214.09|28.2|     1|           0.0| 0.0|      0.0|    0.0|\n",
            "|58202|   0.0| 50|           1|            0|           167.41|30.9|     1|           0.0| 1.0|      1.0|    0.0|\n",
            "|56112|   1.0| 64|           0|            1|           191.61|37.5|     1|           0.0| 0.0|      0.0|    3.0|\n",
            "|34120|   1.0| 75|           1|            0|           221.29|25.8|     1|           0.0| 0.0|      0.0|    3.0|\n",
            "|27458|   0.0| 60|           0|            0|            89.22|37.8|     1|           1.0| 0.0|      0.0|    0.0|\n",
            "|25226|   1.0| 57|           0|            1|           217.08| N/A|     1|           1.0| 3.0|      0.0|    1.0|\n",
            "+-----+------+---+------------+-------------+-----------------+----+------+--------------+----+---------+-------+\n",
            "only showing top 20 rows\n",
            "\n"
          ]
        }
      ]
    },
    {
      "cell_type": "code",
      "source": [
        "print(df.count())\n",
        "df=df.filter(df.bmi!='N/A')\n",
        "df.show()\n",
        "print(df.count())"
      ],
      "metadata": {
        "colab": {
          "base_uri": "https://localhost:8080/"
        },
        "id": "DBrz_1DOKIyo",
        "outputId": "3dd46394-a91f-47f3-8644-2018340f15df"
      },
      "execution_count": 27,
      "outputs": [
        {
          "output_type": "stream",
          "name": "stdout",
          "text": [
            "5110\n",
            "+-----+------+---+------------+-------------+-----------------+----+------+--------------+----+---------+-------+\n",
            "|   id|Gender|age|hypertension|heart_disease|avg_glucose_level| bmi|stroke|Marital Status|Work|Residence|Smoking|\n",
            "+-----+------+---+------------+-------------+-----------------+----+------+--------------+----+---------+-------+\n",
            "| 9046|   1.0| 67|           0|            1|           228.69|36.6|     1|           0.0| 0.0|      0.0|    2.0|\n",
            "|31112|   1.0| 80|           0|            1|           105.92|32.5|     1|           0.0| 0.0|      1.0|    0.0|\n",
            "|60182|   0.0| 49|           0|            0|           171.23|34.4|     1|           0.0| 0.0|      0.0|    3.0|\n",
            "| 1665|   0.0| 79|           1|            0|           174.12|  24|     1|           0.0| 1.0|      1.0|    0.0|\n",
            "|56669|   1.0| 81|           0|            0|           186.21|  29|     1|           0.0| 0.0|      0.0|    2.0|\n",
            "|53882|   1.0| 74|           1|            1|            70.09|27.4|     1|           0.0| 0.0|      1.0|    0.0|\n",
            "|10434|   0.0| 69|           0|            0|            94.39|22.8|     1|           1.0| 0.0|      0.0|    0.0|\n",
            "|60491|   0.0| 78|           0|            0|            58.57|24.2|     1|           0.0| 0.0|      0.0|    1.0|\n",
            "|12109|   0.0| 81|           1|            0|            80.43|29.7|     1|           0.0| 0.0|      1.0|    0.0|\n",
            "|12095|   0.0| 61|           0|            1|           120.46|36.8|     1|           0.0| 3.0|      1.0|    3.0|\n",
            "|12175|   0.0| 54|           0|            0|           104.51|27.3|     1|           0.0| 0.0|      0.0|    3.0|\n",
            "| 5317|   0.0| 79|           0|            1|           214.09|28.2|     1|           0.0| 0.0|      0.0|    0.0|\n",
            "|58202|   0.0| 50|           1|            0|           167.41|30.9|     1|           0.0| 1.0|      1.0|    0.0|\n",
            "|56112|   1.0| 64|           0|            1|           191.61|37.5|     1|           0.0| 0.0|      0.0|    3.0|\n",
            "|34120|   1.0| 75|           1|            0|           221.29|25.8|     1|           0.0| 0.0|      0.0|    3.0|\n",
            "|27458|   0.0| 60|           0|            0|            89.22|37.8|     1|           1.0| 0.0|      0.0|    0.0|\n",
            "|70630|   0.0| 71|           0|            0|           193.94|22.4|     1|           0.0| 3.0|      1.0|    3.0|\n",
            "|13861|   0.0| 52|           1|            0|           233.29|48.9|     1|           0.0| 1.0|      0.0|    0.0|\n",
            "|68794|   0.0| 79|           0|            0|            228.7|26.6|     1|           0.0| 1.0|      0.0|    0.0|\n",
            "|64778|   1.0| 82|           0|            1|            208.3|32.5|     1|           0.0| 0.0|      1.0|    1.0|\n",
            "+-----+------+---+------------+-------------+-----------------+----+------+--------------+----+---------+-------+\n",
            "only showing top 20 rows\n",
            "\n",
            "4909\n"
          ]
        }
      ]
    },
    {
      "cell_type": "code",
      "source": [
        "df.printSchema()"
      ],
      "metadata": {
        "colab": {
          "base_uri": "https://localhost:8080/"
        },
        "id": "4UWGA_cIKr7Z",
        "outputId": "babb385a-9682-46cd-ad5a-65330b93e285"
      },
      "execution_count": 28,
      "outputs": [
        {
          "output_type": "stream",
          "name": "stdout",
          "text": [
            "root\n",
            " |-- id: string (nullable = true)\n",
            " |-- Gender: double (nullable = false)\n",
            " |-- age: string (nullable = true)\n",
            " |-- hypertension: string (nullable = true)\n",
            " |-- heart_disease: string (nullable = true)\n",
            " |-- avg_glucose_level: string (nullable = true)\n",
            " |-- bmi: string (nullable = true)\n",
            " |-- stroke: string (nullable = true)\n",
            " |-- Marital Status: double (nullable = false)\n",
            " |-- Work: double (nullable = false)\n",
            " |-- Residence: double (nullable = false)\n",
            " |-- Smoking: double (nullable = false)\n",
            "\n"
          ]
        }
      ]
    },
    {
      "cell_type": "code",
      "source": [
        "a = ['age','hypertension','heart_disease','bmi','stroke','avg_glucose_level']"
      ],
      "metadata": {
        "id": "aFnUVE9DMATt"
      },
      "execution_count": 29,
      "outputs": []
    },
    {
      "cell_type": "code",
      "source": [
        "from pyspark.sql.types import IntegerType\n",
        "for i in a:\n",
        "  df=df.withColumn(i,df[i].cast(IntegerType()))"
      ],
      "metadata": {
        "id": "WFGqffJqNwKQ"
      },
      "execution_count": 30,
      "outputs": []
    },
    {
      "cell_type": "code",
      "source": [
        "df.show()"
      ],
      "metadata": {
        "colab": {
          "base_uri": "https://localhost:8080/"
        },
        "id": "vaDtTfiFNygq",
        "outputId": "a1df2d2e-d38c-48bd-c96c-41108d5173e9"
      },
      "execution_count": 31,
      "outputs": [
        {
          "output_type": "stream",
          "name": "stdout",
          "text": [
            "+-----+------+---+------------+-------------+-----------------+---+------+--------------+----+---------+-------+\n",
            "|   id|Gender|age|hypertension|heart_disease|avg_glucose_level|bmi|stroke|Marital Status|Work|Residence|Smoking|\n",
            "+-----+------+---+------------+-------------+-----------------+---+------+--------------+----+---------+-------+\n",
            "| 9046|   1.0| 67|           0|            1|              228| 36|     1|           0.0| 0.0|      0.0|    2.0|\n",
            "|31112|   1.0| 80|           0|            1|              105| 32|     1|           0.0| 0.0|      1.0|    0.0|\n",
            "|60182|   0.0| 49|           0|            0|              171| 34|     1|           0.0| 0.0|      0.0|    3.0|\n",
            "| 1665|   0.0| 79|           1|            0|              174| 24|     1|           0.0| 1.0|      1.0|    0.0|\n",
            "|56669|   1.0| 81|           0|            0|              186| 29|     1|           0.0| 0.0|      0.0|    2.0|\n",
            "|53882|   1.0| 74|           1|            1|               70| 27|     1|           0.0| 0.0|      1.0|    0.0|\n",
            "|10434|   0.0| 69|           0|            0|               94| 22|     1|           1.0| 0.0|      0.0|    0.0|\n",
            "|60491|   0.0| 78|           0|            0|               58| 24|     1|           0.0| 0.0|      0.0|    1.0|\n",
            "|12109|   0.0| 81|           1|            0|               80| 29|     1|           0.0| 0.0|      1.0|    0.0|\n",
            "|12095|   0.0| 61|           0|            1|              120| 36|     1|           0.0| 3.0|      1.0|    3.0|\n",
            "|12175|   0.0| 54|           0|            0|              104| 27|     1|           0.0| 0.0|      0.0|    3.0|\n",
            "| 5317|   0.0| 79|           0|            1|              214| 28|     1|           0.0| 0.0|      0.0|    0.0|\n",
            "|58202|   0.0| 50|           1|            0|              167| 30|     1|           0.0| 1.0|      1.0|    0.0|\n",
            "|56112|   1.0| 64|           0|            1|              191| 37|     1|           0.0| 0.0|      0.0|    3.0|\n",
            "|34120|   1.0| 75|           1|            0|              221| 25|     1|           0.0| 0.0|      0.0|    3.0|\n",
            "|27458|   0.0| 60|           0|            0|               89| 37|     1|           1.0| 0.0|      0.0|    0.0|\n",
            "|70630|   0.0| 71|           0|            0|              193| 22|     1|           0.0| 3.0|      1.0|    3.0|\n",
            "|13861|   0.0| 52|           1|            0|              233| 48|     1|           0.0| 1.0|      0.0|    0.0|\n",
            "|68794|   0.0| 79|           0|            0|              228| 26|     1|           0.0| 1.0|      0.0|    0.0|\n",
            "|64778|   1.0| 82|           0|            1|              208| 32|     1|           0.0| 0.0|      1.0|    1.0|\n",
            "+-----+------+---+------------+-------------+-----------------+---+------+--------------+----+---------+-------+\n",
            "only showing top 20 rows\n",
            "\n"
          ]
        }
      ]
    },
    {
      "cell_type": "code",
      "source": [
        "df.printSchema()"
      ],
      "metadata": {
        "colab": {
          "base_uri": "https://localhost:8080/"
        },
        "id": "Pe84TbBaOIrD",
        "outputId": "e4e73252-70a8-4204-b145-cb16ec3d06e3"
      },
      "execution_count": 32,
      "outputs": [
        {
          "output_type": "stream",
          "name": "stdout",
          "text": [
            "root\n",
            " |-- id: string (nullable = true)\n",
            " |-- Gender: double (nullable = false)\n",
            " |-- age: integer (nullable = true)\n",
            " |-- hypertension: integer (nullable = true)\n",
            " |-- heart_disease: integer (nullable = true)\n",
            " |-- avg_glucose_level: integer (nullable = true)\n",
            " |-- bmi: integer (nullable = true)\n",
            " |-- stroke: integer (nullable = true)\n",
            " |-- Marital Status: double (nullable = false)\n",
            " |-- Work: double (nullable = false)\n",
            " |-- Residence: double (nullable = false)\n",
            " |-- Smoking: double (nullable = false)\n",
            "\n"
          ]
        }
      ]
    },
    {
      "cell_type": "code",
      "source": [
        "input=['Gender','age','hypertension','heart_disease','avg_glucose_level','bmi','Marital Status','Work','Residence','Smoking']"
      ],
      "metadata": {
        "id": "eOTRulIQOWOh"
      },
      "execution_count": 33,
      "outputs": []
    },
    {
      "cell_type": "code",
      "source": [
        "from pyspark.ml.feature import VectorAssembler\n",
        "df_va = VectorAssembler(inputCols = input, outputCol = 'features')\n",
        "df = df_va.transform(df)"
      ],
      "metadata": {
        "id": "SYNOmx35YXvP"
      },
      "execution_count": 34,
      "outputs": []
    },
    {
      "cell_type": "code",
      "source": [
        "df.show()"
      ],
      "metadata": {
        "colab": {
          "base_uri": "https://localhost:8080/"
        },
        "id": "2U0D04KVYX4-",
        "outputId": "22c93950-f4b9-48de-d545-cfcdcc4bb440"
      },
      "execution_count": 35,
      "outputs": [
        {
          "output_type": "stream",
          "name": "stdout",
          "text": [
            "+-----+------+---+------------+-------------+-----------------+---+------+--------------+----+---------+-------+--------------------+\n",
            "|   id|Gender|age|hypertension|heart_disease|avg_glucose_level|bmi|stroke|Marital Status|Work|Residence|Smoking|            features|\n",
            "+-----+------+---+------------+-------------+-----------------+---+------+--------------+----+---------+-------+--------------------+\n",
            "| 9046|   1.0| 67|           0|            1|              228| 36|     1|           0.0| 0.0|      0.0|    2.0|[1.0,67.0,0.0,1.0...|\n",
            "|31112|   1.0| 80|           0|            1|              105| 32|     1|           0.0| 0.0|      1.0|    0.0|[1.0,80.0,0.0,1.0...|\n",
            "|60182|   0.0| 49|           0|            0|              171| 34|     1|           0.0| 0.0|      0.0|    3.0|(10,[1,4,5,9],[49...|\n",
            "| 1665|   0.0| 79|           1|            0|              174| 24|     1|           0.0| 1.0|      1.0|    0.0|[0.0,79.0,1.0,0.0...|\n",
            "|56669|   1.0| 81|           0|            0|              186| 29|     1|           0.0| 0.0|      0.0|    2.0|(10,[0,1,4,5,9],[...|\n",
            "|53882|   1.0| 74|           1|            1|               70| 27|     1|           0.0| 0.0|      1.0|    0.0|[1.0,74.0,1.0,1.0...|\n",
            "|10434|   0.0| 69|           0|            0|               94| 22|     1|           1.0| 0.0|      0.0|    0.0|(10,[1,4,5,6],[69...|\n",
            "|60491|   0.0| 78|           0|            0|               58| 24|     1|           0.0| 0.0|      0.0|    1.0|(10,[1,4,5,9],[78...|\n",
            "|12109|   0.0| 81|           1|            0|               80| 29|     1|           0.0| 0.0|      1.0|    0.0|(10,[1,2,4,5,8],[...|\n",
            "|12095|   0.0| 61|           0|            1|              120| 36|     1|           0.0| 3.0|      1.0|    3.0|[0.0,61.0,0.0,1.0...|\n",
            "|12175|   0.0| 54|           0|            0|              104| 27|     1|           0.0| 0.0|      0.0|    3.0|(10,[1,4,5,9],[54...|\n",
            "| 5317|   0.0| 79|           0|            1|              214| 28|     1|           0.0| 0.0|      0.0|    0.0|(10,[1,3,4,5],[79...|\n",
            "|58202|   0.0| 50|           1|            0|              167| 30|     1|           0.0| 1.0|      1.0|    0.0|[0.0,50.0,1.0,0.0...|\n",
            "|56112|   1.0| 64|           0|            1|              191| 37|     1|           0.0| 0.0|      0.0|    3.0|[1.0,64.0,0.0,1.0...|\n",
            "|34120|   1.0| 75|           1|            0|              221| 25|     1|           0.0| 0.0|      0.0|    3.0|[1.0,75.0,1.0,0.0...|\n",
            "|27458|   0.0| 60|           0|            0|               89| 37|     1|           1.0| 0.0|      0.0|    0.0|(10,[1,4,5,6],[60...|\n",
            "|70630|   0.0| 71|           0|            0|              193| 22|     1|           0.0| 3.0|      1.0|    3.0|[0.0,71.0,0.0,0.0...|\n",
            "|13861|   0.0| 52|           1|            0|              233| 48|     1|           0.0| 1.0|      0.0|    0.0|(10,[1,2,4,5,7],[...|\n",
            "|68794|   0.0| 79|           0|            0|              228| 26|     1|           0.0| 1.0|      0.0|    0.0|(10,[1,4,5,7],[79...|\n",
            "|64778|   1.0| 82|           0|            1|              208| 32|     1|           0.0| 0.0|      1.0|    1.0|[1.0,82.0,0.0,1.0...|\n",
            "+-----+------+---+------------+-------------+-----------------+---+------+--------------+----+---------+-------+--------------------+\n",
            "only showing top 20 rows\n",
            "\n"
          ]
        }
      ]
    },
    {
      "cell_type": "code",
      "source": [
        "train, test = df.randomSplit([0.8,0.2],seed=11)"
      ],
      "metadata": {
        "id": "pHoSll_9SbHs"
      },
      "execution_count": 36,
      "outputs": []
    },
    {
      "cell_type": "code",
      "source": [
        "train.count()"
      ],
      "metadata": {
        "colab": {
          "base_uri": "https://localhost:8080/"
        },
        "id": "iIeveQuPVwEX",
        "outputId": "fce5772e-485a-4d1c-a03f-824e755eef4d"
      },
      "execution_count": 37,
      "outputs": [
        {
          "output_type": "execute_result",
          "data": {
            "text/plain": [
              "3935"
            ]
          },
          "metadata": {},
          "execution_count": 37
        }
      ]
    },
    {
      "cell_type": "code",
      "source": [
        "test.count()"
      ],
      "metadata": {
        "colab": {
          "base_uri": "https://localhost:8080/"
        },
        "id": "LbkmjyjhXzyJ",
        "outputId": "da02bc0a-9f52-4c9a-b87e-b26d5acf3ffb"
      },
      "execution_count": 38,
      "outputs": [
        {
          "output_type": "execute_result",
          "data": {
            "text/plain": [
              "974"
            ]
          },
          "metadata": {},
          "execution_count": 38
        }
      ]
    },
    {
      "cell_type": "code",
      "source": [
        "df.count()"
      ],
      "metadata": {
        "colab": {
          "base_uri": "https://localhost:8080/"
        },
        "id": "-yJlFFcCX0_r",
        "outputId": "752a0637-bc52-4237-9fa6-03ec6dfd5e0c"
      },
      "execution_count": 39,
      "outputs": [
        {
          "output_type": "execute_result",
          "data": {
            "text/plain": [
              "4909"
            ]
          },
          "metadata": {},
          "execution_count": 39
        }
      ]
    },
    {
      "cell_type": "code",
      "source": [
        "from pyspark.ml import Pipeline\n",
        "from pyspark.ml.classification import LogisticRegression\n",
        "\n",
        "log_reg = LogisticRegression(featuresCol='features',\n",
        "                             labelCol='stroke')\n",
        "\n"
      ],
      "metadata": {
        "id": "NrHGmXerX1z7"
      },
      "execution_count": 40,
      "outputs": []
    },
    {
      "cell_type": "code",
      "source": [
        "pipe = Pipeline(stages = [log_reg])"
      ],
      "metadata": {
        "id": "ykg39KcDZ4pk"
      },
      "execution_count": 41,
      "outputs": []
    },
    {
      "cell_type": "code",
      "source": [
        "fit_model = pipe.fit(train)"
      ],
      "metadata": {
        "id": "3Bl5WymYZ8rZ"
      },
      "execution_count": 42,
      "outputs": []
    },
    {
      "cell_type": "code",
      "source": [
        "results = fit_model.transform(test)"
      ],
      "metadata": {
        "id": "5UE2USqcaE_6"
      },
      "execution_count": 43,
      "outputs": []
    },
    {
      "cell_type": "code",
      "source": [
        "from pyspark.ml.evaluation import MulticlassClassificationEvaluator\n",
        "from sklearn.metrics import classification_report"
      ],
      "metadata": {
        "id": "vBWJ1OUyazrp"
      },
      "execution_count": 44,
      "outputs": []
    },
    {
      "cell_type": "code",
      "source": [
        "results.select(\"stroke\", \"prediction\").show(5)"
      ],
      "metadata": {
        "id": "GZw1QyDxa1WN",
        "colab": {
          "base_uri": "https://localhost:8080/"
        },
        "outputId": "697f1151-f15a-4569-b0a0-deea968859bc"
      },
      "execution_count": 45,
      "outputs": [
        {
          "output_type": "stream",
          "name": "stdout",
          "text": [
            "+------+----------+\n",
            "|stroke|prediction|\n",
            "+------+----------+\n",
            "|     0|       0.0|\n",
            "|     0|       0.0|\n",
            "|     0|       0.0|\n",
            "|     0|       0.0|\n",
            "|     0|       0.0|\n",
            "+------+----------+\n",
            "only showing top 5 rows\n",
            "\n"
          ]
        }
      ]
    },
    {
      "cell_type": "code",
      "source": [
        "from pyspark.ml.evaluation import MulticlassClassificationEvaluator"
      ],
      "metadata": {
        "id": "_no0z47LizEt"
      },
      "execution_count": 46,
      "outputs": []
    },
    {
      "cell_type": "code",
      "source": [
        "from pyspark.ml.evaluation import MulticlassClassificationEvaluator"
      ],
      "metadata": {
        "id": "3zv50D4bjNyC"
      },
      "execution_count": 47,
      "outputs": []
    },
    {
      "cell_type": "code",
      "source": [
        "evaluator = MulticlassClassificationEvaluator(labelCol=\"stroke\", predictionCol=\"prediction\", metricName=\"accuracy\")"
      ],
      "metadata": {
        "id": "6z1F3d9-jQYS"
      },
      "execution_count": 48,
      "outputs": []
    },
    {
      "cell_type": "code",
      "source": [
        "accuracy = evaluator.evaluate(results)"
      ],
      "metadata": {
        "id": "Xj0rcfE5jYN-"
      },
      "execution_count": 49,
      "outputs": []
    },
    {
      "cell_type": "code",
      "source": [
        "print(f\"Accuracy: {accuracy}\")\n",
        "from pyspark.ml.classification import DecisionTreeClassifier\n",
        "l=accuracy"
      ],
      "metadata": {
        "colab": {
          "base_uri": "https://localhost:8080/"
        },
        "id": "sYbGyTzljfZe",
        "outputId": "d3ebb198-8376-45b0-d16a-743dfc72cc94"
      },
      "execution_count": 72,
      "outputs": [
        {
          "output_type": "stream",
          "name": "stdout",
          "text": [
            "Accuracy: 0.96051227321238\n"
          ]
        }
      ]
    },
    {
      "cell_type": "code",
      "source": [
        "dt_class = DecisionTreeClassifier(featuresCol='features',\n",
        "                             labelCol='stroke')\n",
        "pipedt = Pipeline(stages = [dt_class])\n",
        "fitdt_model = pipedt.fit(train)\n",
        "resultsdt = fitdt_model.transform(test)\n",
        "resultsdt.select(\"stroke\", \"prediction\")\n",
        "evaluator = MulticlassClassificationEvaluator(labelCol=\"stroke\", predictionCol=\"prediction\", metricName=\"accuracy\")\n",
        "rfaccuracy = evaluator.evaluate(resultsdt)\n",
        "print(f\"Accuracy: {rfaccuracy}\")\n",
        "rf=rfaccuracy"
      ],
      "metadata": {
        "colab": {
          "base_uri": "https://localhost:8080/"
        },
        "id": "GFC3i330AbtC",
        "outputId": "537dc383-98bd-4652-baa4-08a213edcfbc"
      },
      "execution_count": 71,
      "outputs": [
        {
          "output_type": "stream",
          "name": "stdout",
          "text": [
            "Accuracy: 0.9558521560574949\n"
          ]
        }
      ]
    },
    {
      "cell_type": "markdown",
      "source": [
        "HYPER PARAMETER TUNING FOR RANDOM FOREST\n"
      ],
      "metadata": {
        "id": "keP3nacLGhKx"
      }
    },
    {
      "cell_type": "code",
      "source": [
        "from pyspark.ml.classification import RandomForestClassifier\n",
        "from pyspark.ml.tuning import ParamGridBuilder, CrossValidator\n",
        "stringIndexer  = StringIndexer(inputCol=\"stroke\", outputCol=\"label\")\n",
        "assembler = VectorAssembler(inputCols=['Gender','age','hypertension','heart_disease','avg_glucose_level','bmi','Marital Status','Work','Residence','Smoking'], outputCol=\"featuresrf\")\n",
        "rf = RandomForestClassifier(labelCol=\"label\", featuresCol=\"featuresrf\")\n",
        "train_data, test_data = df.randomSplit([0.7, 0.3], seed=42)\n",
        "pipeline = Pipeline(stages=[stringIndexer, assembler, rf])\n",
        "paramGrid = ParamGridBuilder().addGrid(rf.numTrees, [10, 20, 30]).addGrid(rf.maxDepth, [5, 10, 15]).build()\n",
        "\n",
        "cross_validator = CrossValidator(estimator=pipeline,\n",
        "                          estimatorParamMaps=paramGrid,\n",
        "                          evaluator=MulticlassClassificationEvaluator(labelCol=\"label\", metricName=\"accuracy\"),\n",
        "                          numFolds=5, seed=42)\n",
        "\n",
        "cv_model = cross_validator.fit(train_data)\n"
      ],
      "metadata": {
        "id": "ZKpb0XtwC0mu"
      },
      "execution_count": 63,
      "outputs": []
    },
    {
      "cell_type": "code",
      "source": [
        "best_rf_model = cv_model.bestModel.stages[-1]\n",
        "importances = best_rf_model.featureImportances\n",
        "feature_list = ['Gender','age','hypertension','heart_disease','avg_glucose_level','bmi','Marital Status','Work','Residence','Smoking']\n",
        "\n",
        "print(\"Feature Importances:\")\n",
        "for feature, importance in zip(feature_list, importances):\n",
        "    print(f\"{feature}: {importance:.4f}\")"
      ],
      "metadata": {
        "colab": {
          "base_uri": "https://localhost:8080/"
        },
        "id": "L1I5agWrGLoL",
        "outputId": "062a9593-7167-4f0f-d58e-7b5041e1af42"
      },
      "execution_count": 64,
      "outputs": [
        {
          "output_type": "stream",
          "name": "stdout",
          "text": [
            "Feature Importances:\n",
            "Gender: 0.0155\n",
            "age: 0.4101\n",
            "hypertension: 0.0889\n",
            "heart_disease: 0.0431\n",
            "avg_glucose_level: 0.1518\n",
            "bmi: 0.1426\n",
            "Marital Status: 0.0361\n",
            "Work: 0.0294\n",
            "Residence: 0.0157\n",
            "Smoking: 0.0670\n"
          ]
        }
      ]
    },
    {
      "cell_type": "code",
      "source": [
        "predictions = cv_model.transform(test_data)\n",
        "evaluator = MulticlassClassificationEvaluator(labelCol=\"label\", metricName=\"accuracy\")\n",
        "rfaccuracy = evaluator.evaluate(predictions)\n",
        "print(\"Test set accuracy = {:.2f}\".format(rfaccuracy))\n",
        "hrf=rfaccuracy"
      ],
      "metadata": {
        "colab": {
          "base_uri": "https://localhost:8080/"
        },
        "id": "yEyuSKYnGbAn",
        "outputId": "209b722b-a278-4199-d7c6-51099147df5a"
      },
      "execution_count": 70,
      "outputs": [
        {
          "output_type": "stream",
          "name": "stdout",
          "text": [
            "Test set accuracy = 0.96\n"
          ]
        }
      ]
    },
    {
      "cell_type": "markdown",
      "source": [
        "HYPER PARAMETER TUNING\n"
      ],
      "metadata": {
        "id": "JU6OimaFkbok"
      }
    },
    {
      "cell_type": "code",
      "source": [],
      "metadata": {
        "id": "z-J8n5WiGZmU"
      },
      "execution_count": 65,
      "outputs": []
    },
    {
      "cell_type": "code",
      "source": [
        "from pyspark.ml.feature import StringIndexer, VectorAssembler, OneHotEncoder\n",
        "from pyspark.ml.classification import DecisionTreeClassifier\n",
        "from pyspark.ml.evaluation import MulticlassClassificationEvaluator\n",
        "from pyspark.ml.tuning import CrossValidator, ParamGridBuilder\n",
        "from pyspark.ml import Pipeline\n"
      ],
      "metadata": {
        "id": "PyB1vJl-jiYi"
      },
      "execution_count": 66,
      "outputs": []
    },
    {
      "cell_type": "code",
      "source": [
        "stringIndexer  = StringIndexer(inputCol=\"stroke\", outputCol=\"label\")\n",
        "assembler = VectorAssembler(inputCols=['Gender','age','hypertension','heart_disease','avg_glucose_level','Marital Status','Work','Residence','Smoking'], outputCol=\"features1\")\n",
        "train_data, test_data = df.randomSplit([0.8, 0.2], seed=42)\n",
        "dt = DecisionTreeClassifier(labelCol='label', featuresCol='features1')\n",
        "pipeline = Pipeline(stages=[stringIndexer, assembler, dt])\n",
        "paramGrid = ParamGridBuilder() \\\n",
        "    .addGrid(dt.maxDepth, [3, 5, 7]) \\\n",
        "    .addGrid(dt.minInstancesPerNode, [1, 3, 5]) \\\n",
        "    .build()"
      ],
      "metadata": {
        "id": "F4pWCeT5FCk7"
      },
      "execution_count": 67,
      "outputs": []
    },
    {
      "cell_type": "markdown",
      "source": [
        "LOGISTIC REGRESSION\n"
      ],
      "metadata": {
        "id": "V8CK5bP8kQDM"
      }
    },
    {
      "cell_type": "code",
      "source": [
        "crossval = CrossValidator(estimator=pipeline, estimatorParamMaps=paramGrid,\n",
        "                      evaluator=MulticlassClassificationEvaluator(\n",
        "                      labelCol='label', predictionCol='prediction', metricName='accuracy'),\n",
        "                      numFolds=5)\n",
        "\n",
        "cvModel = crossval.fit(train_data)\n",
        "\n",
        "best_model = cvModel.bestModel\n",
        "\n",
        "predictions = best_model.transform(test_data)\n",
        "\n",
        "\n",
        "evaluator = MulticlassClassificationEvaluator(labelCol=\"label\", \\\n",
        "                  predictionCol=\"prediction\", metricName=\"accuracy\")\n",
        "hlaccuracy = evaluator.evaluate(predictions)\n",
        "\n",
        "print(f\"Test Accuracy: {hlaccuracy:.2f}\")\n",
        "hl=hlaccuracy"
      ],
      "metadata": {
        "colab": {
          "base_uri": "https://localhost:8080/"
        },
        "id": "EbpyLjl4JpHv",
        "outputId": "aee98b6f-e254-4519-9312-790c679cfd0c"
      },
      "execution_count": 69,
      "outputs": [
        {
          "output_type": "stream",
          "name": "stdout",
          "text": [
            "Test Accuracy: 0.96\n"
          ]
        }
      ]
    },
    {
      "cell_type": "code",
      "source": [
        "import pandas as pd\n",
        "import matplotlib.pyplot as plt\n",
        "tags = ['Logistic Regression','Decision Tree']\n",
        "\n",
        "a = [l,rf]\n",
        "b = [hl,hrf]\n",
        "colors = ['#3366FF', '#FF33F4']\n",
        "df_histo = pd.DataFrame({'Without hpt':a , 'with hpt':b}, index=tags)\n",
        "df_histo.plot.bar(rot=0, figsize=(12, 5),color=colors)\n",
        "plt.tight_layout()\n",
        "plt.xlabel('Different Algorithms used')\n",
        "plt.ylabel('Accuracy')\n",
        "plt.title('Which Model is the BEST?')\n",
        "plt.show()"
      ],
      "metadata": {
        "id": "FBtJIgmuLXbR",
        "colab": {
          "base_uri": "https://localhost:8080/",
          "height": 546
        },
        "outputId": "564e8764-310a-4e1e-cf98-d9392f02fedc"
      },
      "execution_count": 73,
      "outputs": [
        {
          "output_type": "display_data",
          "data": {
            "text/plain": [
              "<Figure size 1200x500 with 1 Axes>"
            ],
            "image/png": "[encoded data removed]"
          },
          "metadata": {}
        }
      ]
    },
    {
      "cell_type": "code",
      "source": [],
      "metadata": {
        "id": "n5bp3GACCvpJ"
      },
      "execution_count": null,
      "outputs": []
    }
  ]
}